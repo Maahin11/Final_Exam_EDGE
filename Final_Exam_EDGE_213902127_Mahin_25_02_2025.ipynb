{
  "nbformat": 4,
  "nbformat_minor": 0,
  "metadata": {
    "colab": {
      "provenance": []
    },
    "kernelspec": {
      "name": "python3",
      "display_name": "Python 3"
    },
    "language_info": {
      "name": "python"
    }
  },
  "cells": [
    {
      "cell_type": "code",
      "execution_count": null,
      "metadata": {
        "id": "vRYnTaxWlxyz",
        "colab": {
          "base_uri": "https://localhost:8080/"
        },
        "outputId": "5d5957a2-ddf5-4b33-b73d-5fcd7c1f246c"
      },
      "outputs": [
        {
          "output_type": "stream",
          "name": "stdout",
          "text": [
            "Requirement already satisfied: pandas in /usr/local/lib/python3.11/dist-packages (2.2.2)\n",
            "Requirement already satisfied: numpy>=1.23.2 in /usr/local/lib/python3.11/dist-packages (from pandas) (1.26.4)\n",
            "Requirement already satisfied: python-dateutil>=2.8.2 in /usr/local/lib/python3.11/dist-packages (from pandas) (2.8.2)\n",
            "Requirement already satisfied: pytz>=2020.1 in /usr/local/lib/python3.11/dist-packages (from pandas) (2025.1)\n",
            "Requirement already satisfied: tzdata>=2022.7 in /usr/local/lib/python3.11/dist-packages (from pandas) (2025.1)\n",
            "Requirement already satisfied: six>=1.5 in /usr/local/lib/python3.11/dist-packages (from python-dateutil>=2.8.2->pandas) (1.17.0)\n"
          ]
        }
      ],
      "source": [
        "pip install pandas"
      ]
    },
    {
      "cell_type": "code",
      "source": [
        "pip install numpy"
      ],
      "metadata": {
        "colab": {
          "base_uri": "https://localhost:8080/"
        },
        "id": "9bqiIUlSwSen",
        "outputId": "f413090e-7d07-4687-b586-785a4ce7d4d0"
      },
      "execution_count": null,
      "outputs": [
        {
          "output_type": "stream",
          "name": "stdout",
          "text": [
            "Requirement already satisfied: numpy in /usr/local/lib/python3.11/dist-packages (1.26.4)\n"
          ]
        }
      ]
    },
    {
      "cell_type": "code",
      "source": [
        "import pandas as pd\n",
        "import numpy as np\n",
        "\n",
        "df_employees = pd.read_csv(\"/content/employees_large.csv\")\n",
        "avg_salary_per_dept = df_employees.groupby(\"Department\")[\"Salary\"].mean()\n",
        "highest_salary_dept = avg_salary_per_dept.idxmax()\n",
        "print(\"Average Salary Per Department:\\n\", avg_salary_per_dept)\n",
        "print(\"Department with Highest Average Salary:\", highest_salary_dept)"
      ],
      "metadata": {
        "colab": {
          "base_uri": "https://localhost:8080/"
        },
        "id": "YzjMU6U2wbaW",
        "outputId": "93466a6b-38ff-4045-82df-4ac755beb36d"
      },
      "execution_count": null,
      "outputs": [
        {
          "output_type": "stream",
          "name": "stdout",
          "text": [
            "Average Salary Per Department:\n",
            " Department\n",
            "Engineering    125000.0\n",
            "Finance         78000.0\n",
            "HR              68000.0\n",
            "IT              57750.0\n",
            "Marketing       43750.0\n",
            "Name: Salary, dtype: float64\n",
            "Department with Highest Average Salary: Engineering\n"
          ]
        }
      ]
    },
    {
      "cell_type": "code",
      "source": [
        "df_sales = pd.read_csv(\"/content/sales_large.csv\")\n",
        "total_sales = df_sales.groupby([\"Region\", \"Product\"])[\"Sales\"].sum()\n",
        "highest_selling_product = total_sales.idxmax()\n",
        "print(\"Total Sales Per Product Per Region:\\n\", total_sales)\n",
        "print(\"Product with Highest Total Sales:\", highest_selling_product)"
      ],
      "metadata": {
        "colab": {
          "base_uri": "https://localhost:8080/"
        },
        "id": "q4poynmUxNdd",
        "outputId": "9bdeecab-3bae-41c3-d386-bc5e68098e37"
      },
      "execution_count": null,
      "outputs": [
        {
          "output_type": "stream",
          "name": "stdout",
          "text": [
            "Total Sales Per Product Per Region:\n",
            " Region   Product\n",
            "Central  Apples      9000\n",
            "         Oranges     8000\n",
            "East     Apples      5000\n",
            "         Bananas     8500\n",
            "         Oranges    13900\n",
            "North    Apples      7200\n",
            "         Bananas     9000\n",
            "         Oranges     4900\n",
            "South    Apples     12900\n",
            "         Bananas     5100\n",
            "         Oranges     3000\n",
            "West     Apples     18900\n",
            "         Bananas    14700\n",
            "         Oranges     7500\n",
            "Name: Sales, dtype: int64\n",
            "Product with Highest Total Sales: ('West', 'Apples')\n"
          ]
        }
      ]
    },
    {
      "cell_type": "code",
      "source": [
        "A = np.array([[2, 4, 6], [1, 3, 5], [7, 9, 11]])\n",
        "B = np.array([[8, 5, 2], [7, 4, 1], [6, 3, 0]])\n",
        "print(\"Element-wise Sum:\\n\", A + B)\n",
        "print(\"Element-wise Product:\\n\", A * B)\n",
        "print(\"Dot Product of A and B Transpose:\\n\", np.dot(A, B.T))\n",
        "print(\"Determinant of A:\", np.linalg.det(A))"
      ],
      "metadata": {
        "colab": {
          "base_uri": "https://localhost:8080/"
        },
        "id": "hRXPCHEWxaQ4",
        "outputId": "7e53a6e2-03a9-4110-90e8-b682c60847fd"
      },
      "execution_count": null,
      "outputs": [
        {
          "output_type": "stream",
          "name": "stdout",
          "text": [
            "Element-wise Sum:\n",
            " [[10  9  8]\n",
            " [ 8  7  6]\n",
            " [13 12 11]]\n",
            "Element-wise Product:\n",
            " [[16 20 12]\n",
            " [ 7 12  5]\n",
            " [42 27  0]]\n",
            "Dot Product of A and B Transpose:\n",
            " [[ 48  36  24]\n",
            " [ 33  24  15]\n",
            " [123  96  69]]\n",
            "Determinant of A: 0.0\n"
          ]
        }
      ]
    },
    {
      "cell_type": "code",
      "source": [
        "random_data = np.random.randn(10000)\n",
        "print(\"Mean:\", np.mean(random_data))\n",
        "print(\"Median:\", np.median(random_data))\n",
        "print(\"Standard Deviation:\", np.std(random_data))\n",
        "print(\"Min Value:\", np.min(random_data))\n",
        "print(\"Max Value:\", np.max(random_data))\n",
        "print(\"Count Mean:\", np.sum(random_data > np.mean(random_data)))\n",
        "norm_data = (random_data - np.min(random_data)) / (np.max(random_data) - np.min(random_data))\n",
        "print(\"Normalized Data:\\n\", norm_data[:10])"
      ],
      "metadata": {
        "colab": {
          "base_uri": "https://localhost:8080/"
        },
        "id": "UwW3l4l1xd7n",
        "outputId": "1c78d3c8-08bb-410b-f4d0-e1d9dfdc6326"
      },
      "execution_count": null,
      "outputs": [
        {
          "output_type": "stream",
          "name": "stdout",
          "text": [
            "Mean: -0.011226777683112551\n",
            "Median: -0.01013526865673535\n",
            "Standard Deviation: 0.9833551261461936\n",
            "Min Value: -4.143040764716226\n",
            "Max Value: 3.441361106285078\n",
            "Count Greater than Mean: 5004\n",
            "Normalized Data Sample:\n",
            " [0.54625346 0.59830764 0.40973867 0.67002479 0.52855771 0.46201318\n",
            " 0.55738207 0.71016843 0.64311586 0.40648767]\n"
          ]
        }
      ]
    },
    {
      "cell_type": "code",
      "source": [
        "temperatures = [28, 32, 35, 31, 29, 30, 33, 36, 27, 25, 34, 30, 29, 37, 38, 26, 31, 35, 33, 32, 36, 34, 29, 28, 27, 35, 32, 30, 31, 33]\n",
        "high_temp = [t for t in temperatures if t > 32]\n",
        "temp_classification = [(t, \"Hot\" if t > 35 else \"Warm\" if t >= 30 else \"Cool\") for t in temperatures]\n",
        "monthly_avg = sum(temperatures) / len(temperatures)\n",
        "temp_diff = [t - monthly_avg for t in temperatures]\n",
        "print(\"Temperatures Above 32C:\\n\", high_temp)\n",
        "print(\"Temperature:\\n\", temp_classification)\n",
        "print(\"Temperature Differences from Average:\\n\", temp_diff)"
      ],
      "metadata": {
        "colab": {
          "base_uri": "https://localhost:8080/"
        },
        "id": "MctrpKdWxmTB",
        "outputId": "a62d0430-abbb-4778-972a-a7816173c795"
      },
      "execution_count": null,
      "outputs": [
        {
          "output_type": "stream",
          "name": "stdout",
          "text": [
            "Temperatures Above 32C:\n",
            " [35, 33, 36, 34, 37, 38, 35, 33, 36, 34, 35, 33]\n",
            "Temperature Classification:\n",
            " [(28, 'Cool'), (32, 'Warm'), (35, 'Warm'), (31, 'Warm'), (29, 'Cool'), (30, 'Warm'), (33, 'Warm'), (36, 'Hot'), (27, 'Cool'), (25, 'Cool'), (34, 'Warm'), (30, 'Warm'), (29, 'Cool'), (37, 'Hot'), (38, 'Hot'), (26, 'Cool'), (31, 'Warm'), (35, 'Warm'), (33, 'Warm'), (32, 'Warm'), (36, 'Hot'), (34, 'Warm'), (29, 'Cool'), (28, 'Cool'), (27, 'Cool'), (35, 'Warm'), (32, 'Warm'), (30, 'Warm'), (31, 'Warm'), (33, 'Warm')]\n",
            "Temperature Differences from Average:\n",
            " [-3.533333333333335, 0.466666666666665, 3.466666666666665, -0.533333333333335, -2.533333333333335, -1.533333333333335, 1.466666666666665, 4.466666666666665, -4.533333333333335, -6.533333333333335, 2.466666666666665, -1.533333333333335, -2.533333333333335, 5.466666666666665, 6.466666666666665, -5.533333333333335, -0.533333333333335, 3.466666666666665, 1.466666666666665, 0.466666666666665, 4.466666666666665, 2.466666666666665, -2.533333333333335, -3.533333333333335, -4.533333333333335, 3.466666666666665, 0.466666666666665, -1.533333333333335, -0.533333333333335, 1.466666666666665]\n"
          ]
        }
      ]
    }
  ]
}